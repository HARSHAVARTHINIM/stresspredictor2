{
 "cells": [
  {
   "cell_type": "markdown",
   "id": "4dfc95b4",
   "metadata": {},
   "source": [
    "# Explainable AI (XAI) Analysis with SHAP\n",
    "\n",
    "This notebook demonstrates how to use SHAP to interpret machine learning predictions for student mental health risk. It provides global and individual explanations to support counselors and students."
   ]
  },
  {
   "cell_type": "markdown",
   "id": "eb7963b6",
   "metadata": {},
   "source": [
    "## 1. Import Required Libraries\n",
    "Import pandas, numpy, scikit-learn, SHAP, and visualization libraries."
   ]
  },
  {
   "cell_type": "code",
   "execution_count": null,
   "id": "d2390da4",
   "metadata": {},
   "outputs": [],
   "source": [
    "# Import libraries\n",
    "import pandas as pd\n",
    "import numpy as np\n",
    "import matplotlib.pyplot as plt\n",
    "import seaborn as sns\n",
    "from sklearn.ensemble import RandomForestClassifier\n",
    "from sklearn.model_selection import train_test_split\n",
    "import shap"
   ]
  },
  {
   "cell_type": "markdown",
   "id": "93f6940f",
   "metadata": {},
   "source": [
    "## 2. Load and Prepare Survey Data\n",
    "Load the student survey dataset, handle missing values, encode categorical variables, and split into features and target risk levels."
   ]
  },
  {
   "cell_type": "code",
   "execution_count": null,
   "id": "aa457402",
   "metadata": {},
   "outputs": [],
   "source": [
    "# Load the survey data\n",
    "# Replace 'student_mental_health.csv' with your actual file name\n",
    "survey_df = pd.read_csv('student_mental_health.csv')\n",
    "\n",
    "# Preview the data\n",
    "survey_df.head()\n",
    "\n",
    "# Handle missing values (simple example: drop rows with missing)\n",
    "survey_df = survey_df.dropna()\n",
    "\n",
    "# Encode categorical variables if needed\n",
    "# Example: survey_df['gender'] = survey_df['gender'].astype('category').cat.codes\n",
    "\n",
    "# Define features and target\n",
    "feature_columns = [col for col in survey_df.columns if col not in ['stress_level', 'risk_level']]\n",
    "X = survey_df[feature_columns]\n",
    "y = survey_df['risk_level'] if 'risk_level' in survey_df.columns else survey_df['stress_level']"
   ]
  },
  {
   "cell_type": "code",
   "execution_count": null,
   "id": "51c4abb0",
   "metadata": {},
   "outputs": [],
   "source": [
    "## 3. Train Model and Compute SHAP Values\n",
    "from sklearn.model_selection import train_test_split\n",
    "from xgboost import XGBClassifier\n",
    "import shap\n",
    "\n",
    "# Split data (using all for training for demonstration)\n",
    "X_train, X_test, y_train, y_test = train_test_split(X, y, test_size=0.2, random_state=42)\n",
    "\n",
    "# Train XGBoost model\n",
    "model = XGBClassifier(use_label_encoder=False, eval_metric='logloss')\n",
    "model.fit(X_train, y_train)\n",
    "\n",
    "# Initialize SHAP explainer\n",
    "explainer = shap.Explainer(model, X_train)\n",
    "shap_values = explainer(X_train)\n",
    "\n",
    "# Display global feature importance\n",
    "shap.summary_plot(shap_values, X_train, show=False)\n",
    "import matplotlib.pyplot as plt\n",
    "plt.show()"
   ]
  },
  {
   "cell_type": "code",
   "execution_count": null,
   "id": "5a79762b",
   "metadata": {},
   "outputs": [],
   "source": [
    "# Check class distribution in your training data\n",
    "import matplotlib.pyplot as plt\n",
    "\n",
    "plt.figure(figsize=(6,4))\n",
    "survey_df['risk_level'].value_counts().plot(kind='bar', color=['#22c55e','#facc15','#ef4444'])\n",
    "plt.title('Class Distribution: risk_level')\n",
    "plt.xlabel('Class')\n",
    "plt.ylabel('Count')\n",
    "plt.xticks(rotation=0)\n",
    "plt.show()\n",
    "\n",
    "# Optional: Print counts\n",
    "print(survey_df['risk_level'].value_counts())"
   ]
  }
 ],
 "metadata": {
  "language_info": {
   "name": "python"
  }
 },
 "nbformat": 4,
 "nbformat_minor": 5
}
